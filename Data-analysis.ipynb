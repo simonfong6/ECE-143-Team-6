{
 "cells": [
  {
   "cell_type": "markdown",
   "metadata": {},
   "source": [
    "# Subtle Asian Dating: Counts, Averages, Percentages, Medians, Distributions"
   ]
  },
  {
   "cell_type": "markdown",
   "metadata": {},
   "source": [
    "## Note\n",
    "Requires Pandas >= 0.24.2"
   ]
  },
  {
   "cell_type": "code",
   "execution_count": 1,
   "metadata": {},
   "outputs": [],
   "source": [
    "import utils\n",
    "from utils import load_data_dataframe\n",
    "import matplotlib.pyplot as plt\n",
    "df = load_data_dataframe()"
   ]
  },
  {
   "cell_type": "markdown",
   "metadata": {},
   "source": [
    "## Turn off scientific notation for Pandas"
   ]
  },
  {
   "cell_type": "code",
   "execution_count": 2,
   "metadata": {},
   "outputs": [],
   "source": [
    "utils.turn_off_scientific_notation()"
   ]
  },
  {
   "cell_type": "markdown",
   "metadata": {},
   "source": [
    "# Counts and Sums Raw"
   ]
  },
  {
   "cell_type": "code",
   "execution_count": 3,
   "metadata": {},
   "outputs": [
    {
     "data": {
      "text/plain": [
       "above_platinum                                                       197.000\n",
       "always_offer_to_pay                                                  652.000\n",
       "asian_community_prominent_figure                                     209.000\n",
       "church_going                                                         166.000\n",
       "degree_acceptable                                                    831.000\n",
       "degree_graduated                                                     295.000\n",
       "degree_masters                                                       144.000\n",
       "degree_phd                                                           105.000\n",
       "degree_waste_of_time                                                  57.000\n",
       "dress_like_fuccboi                                                   209.000\n",
       "dropped_out                                                            3.000\n",
       "english_non_fluent                                                     2.000\n",
       "english_only                                                          39.000\n",
       "foreign_langauges_fluent                                            2605.000\n",
       "foreign_langauges_nonfluent                                         2684.500\n",
       "gpa_acceptable                                                       396.000\n",
       "height_cm                          1331111111111110643854132225163395072.000\n",
       "instrument_good                                                      332.000\n",
       "instruments                                                   1234571027.000\n",
       "iq_score                                                 110000000120779.000\n",
       "job_unacceptable_not_student                                          17.000\n",
       "kpop_dance_sing                                                      133.000\n",
       "let_the_girl_pay_if_she_wants                                        462.000\n",
       "over_10k_instagram                                                    75.000\n",
       "perfect_vision                                                       258.000\n",
       "pi_tenth_digit                                                       373.000\n",
       "racist_against_other_asians                                          184.000\n",
       "ripped                                                               226.000\n",
       "salary_over_100k                                                     250.000\n",
       "salary_over_200k                                                     130.000\n",
       "salary_over_80k                                                      174.000\n",
       "salary_six_figure                                                      0.000\n",
       "salty_about_paying                                                   121.000\n",
       "scored_yourself                                                      577.000\n",
       "sports_varsity_college                                               466.000\n",
       "tattoos                                                              134.000\n",
       "unemployed_not_student                                                17.000\n",
       "dtype: float64"
      ]
     },
     "execution_count": 3,
     "metadata": {},
     "output_type": "execute_result"
    }
   ],
   "source": [
    "df.sum()"
   ]
  },
  {
   "cell_type": "markdown",
   "metadata": {},
   "source": [
    "# After removing outliers"
   ]
  },
  {
   "cell_type": "code",
   "execution_count": 5,
   "metadata": {},
   "outputs": [
    {
     "data": {
      "text/plain": [
       "above_platinum                        187.000\n",
       "always_offer_to_pay                   598.000\n",
       "asian_community_prominent_figure      178.000\n",
       "church_going                          151.000\n",
       "degree_acceptable                     775.000\n",
       "degree_graduated                      282.000\n",
       "degree_masters                        132.000\n",
       "degree_phd                             98.000\n",
       "degree_waste_of_time                   52.000\n",
       "dress_like_fuccboi                    199.000\n",
       "dropped_out                             1.000\n",
       "english_non_fluent                      2.000\n",
       "english_only                           39.000\n",
       "foreign_langauges_fluent             1224.000\n",
       "foreign_langauges_nonfluent          1249.500\n",
       "gpa_acceptable                        368.000\n",
       "height_cm                          163869.340\n",
       "instrument_good                       305.000\n",
       "instruments                          1176.000\n",
       "iq_score                           111731.000\n",
       "job_unacceptable_not_student           11.000\n",
       "kpop_dance_sing                       119.000\n",
       "let_the_girl_pay_if_she_wants         439.000\n",
       "over_10k_instagram                     69.000\n",
       "perfect_vision                        250.000\n",
       "pi_tenth_digit                        335.000\n",
       "racist_against_other_asians           163.000\n",
       "ripped                                218.000\n",
       "salary_over_100k                      247.000\n",
       "salary_over_200k                      121.000\n",
       "salary_over_80k                       172.000\n",
       "salary_six_figure                       0.000\n",
       "salty_about_paying                    112.000\n",
       "scored_yourself                       541.000\n",
       "sports_varsity_college                433.000\n",
       "tattoos                               129.000\n",
       "unemployed_not_student                 16.000\n",
       "dtype: float64"
      ]
     },
     "execution_count": 5,
     "metadata": {},
     "output_type": "execute_result"
    }
   ],
   "source": [
    "filtered, outliers = utils.drop_all_outliers(df)\n",
    "sums = filtered.sum()\n",
    "sums"
   ]
  },
  {
   "cell_type": "markdown",
   "metadata": {},
   "source": [
    "# Averages and Percentage of Responses"
   ]
  },
  {
   "cell_type": "code",
   "execution_count": 8,
   "metadata": {},
   "outputs": [
    {
     "data": {
      "text/plain": [
       "above_platinum                       0.199\n",
       "always_offer_to_pay                  0.638\n",
       "asian_community_prominent_figure     0.190\n",
       "church_going                         0.161\n",
       "degree_acceptable                    0.826\n",
       "degree_graduated                     0.301\n",
       "degree_masters                       0.141\n",
       "degree_phd                           0.104\n",
       "degree_waste_of_time                 0.055\n",
       "dress_like_fuccboi                   0.212\n",
       "dropped_out                          0.001\n",
       "english_non_fluent                   0.002\n",
       "english_only                         0.042\n",
       "foreign_langauges_fluent             1.305\n",
       "foreign_langauges_nonfluent          1.332\n",
       "gpa_acceptable                       0.392\n",
       "height_cm                          174.701\n",
       "instrument_good                      0.325\n",
       "instruments                          1.254\n",
       "iq_score                           119.116\n",
       "job_unacceptable_not_student         0.012\n",
       "kpop_dance_sing                      0.127\n",
       "let_the_girl_pay_if_she_wants        0.468\n",
       "over_10k_instagram                   0.074\n",
       "perfect_vision                       0.267\n",
       "pi_tenth_digit                       0.357\n",
       "racist_against_other_asians          0.174\n",
       "ripped                               0.232\n",
       "salary_over_100k                     0.263\n",
       "salary_over_200k                     0.129\n",
       "salary_over_80k                      0.183\n",
       "salary_six_figure                    0.000\n",
       "salty_about_paying                   0.119\n",
       "scored_yourself                      0.577\n",
       "sports_varsity_college               0.462\n",
       "tattoos                              0.138\n",
       "unemployed_not_student               0.017\n",
       "dtype: float64"
      ]
     },
     "execution_count": 8,
     "metadata": {},
     "output_type": "execute_result"
    }
   ],
   "source": [
    "count = filtered.shape[0]\n",
    "averages = sums / count\n",
    "averages"
   ]
  },
  {
   "cell_type": "code",
   "execution_count": null,
   "metadata": {},
   "outputs": [],
   "source": []
  },
  {
   "cell_type": "code",
   "execution_count": null,
   "metadata": {},
   "outputs": [],
   "source": []
  },
  {
   "cell_type": "markdown",
   "metadata": {},
   "source": [
    "# Distribution"
   ]
  },
  {
   "cell_type": "code",
   "execution_count": 6,
   "metadata": {},
   "outputs": [
    {
     "data": {
      "text/plain": [
       "<matplotlib.axes._subplots.AxesSubplot at 0x1094cd310>"
      ]
     },
     "execution_count": 6,
     "metadata": {},
     "output_type": "execute_result"
    },
    {
     "data": {
      "image/png": "[encoded data removed]",
      "text/plain": [
       "<matplotlib.figure.Figure at 0x10ae6efd0>"
      ]
     },
     "metadata": {},
     "output_type": "display_data"
    }
   ],
   "source": [
    "height = df['height_cm']\n",
    "ax = plt.gca()\n",
    "height.hist(ax=ax, alpha=0.9, color='blue')\n"
   ]
  },
  {
   "cell_type": "code",
   "execution_count": 7,
   "metadata": {},
   "outputs": [
    {
     "data": {
      "text/plain": [
       "<matplotlib.axes._subplots.AxesSubplot at 0x109631890>"
      ]
     },
     "execution_count": 7,
     "metadata": {},
     "output_type": "execute_result"
    },
    {
     "data": {
      "image/png": "[encoded data removed]",
      "text/plain": [
       "<matplotlib.figure.Figure at 0x1094f2b10>"
      ]
     },
     "metadata": {},
     "output_type": "display_data"
    }
   ],
   "source": [
    "height = filtered['height_cm']\n",
    "ax = plt.gca()\n",
    "height.hist(ax=ax, alpha=0.9, color='blue')"
   ]
  },
  {
   "cell_type": "code",
   "execution_count": null,
   "metadata": {},
   "outputs": [],
   "source": []
  }
 ],
 "metadata": {
  "kernelspec": {
   "display_name": "Python 3",
   "language": "python",
   "name": "python3"
  },
  "language_info": {
   "codemirror_mode": {
    "name": "ipython",
    "version": 2
   },
   "file_extension": ".py",
   "mimetype": "text/x-python",
   "name": "python",
   "nbconvert_exporter": "python",
   "pygments_lexer": "ipython2",
   "version": "2.7.14"
  }
 },
 "nbformat": 4,
 "nbformat_minor": 2
}
