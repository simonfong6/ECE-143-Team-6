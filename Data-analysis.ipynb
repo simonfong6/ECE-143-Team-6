{
 "cells": [
  {
   "cell_type": "markdown",
   "metadata": {},
   "source": [
    "# Subtle Asian Dating: Counts, Averages, Percentages, Medians, Distributions"
   ]
  },
  {
   "cell_type": "markdown",
   "metadata": {},
   "source": [
    "## Note\n",
    "Requires Pandas >= 0.24.2"
   ]
  },
  {
   "cell_type": "code",
   "execution_count": 9,
   "metadata": {},
   "outputs": [],
   "source": [
    "import utils\n",
    "from utils import load_data_dataframe\n",
    "import matplotlib.pyplot as plt\n",
    "df = load_data_dataframe()"
   ]
  },
  {
   "cell_type": "markdown",
   "metadata": {},
   "source": [
    "## Turn off scientific notation for Pandas"
   ]
  },
  {
   "cell_type": "code",
   "execution_count": 6,
   "metadata": {},
   "outputs": [],
   "source": [
    "utils.turn_off_scientific_notation()"
   ]
  },
  {
   "cell_type": "markdown",
   "metadata": {},
   "source": [
    "# Counts and Sums Raw"
   ]
  },
  {
   "cell_type": "code",
   "execution_count": 7,
   "metadata": {},
   "outputs": [
    {
     "data": {
      "text/plain": [
       "above_platinum                                                       197.000\n",
       "always_offer_to_pay                                                  652.000\n",
       "asian_community_prominent_figure                                     209.000\n",
       "church_going                                                         166.000\n",
       "degree_acceptable                                                    831.000\n",
       "degree_graduated                                                     295.000\n",
       "degree_masters                                                       144.000\n",
       "degree_phd                                                           105.000\n",
       "degree_waste_of_time                                                  57.000\n",
       "dress_like_fuccboi                                                   209.000\n",
       "dropped_out                                                            3.000\n",
       "english_non_fluent                                                     2.000\n",
       "english_only                                                          39.000\n",
       "foreign_langauges_fluent                                            2605.000\n",
       "foreign_langauges_nonfluent                                         2684.500\n",
       "gpa_acceptable                                                       396.000\n",
       "height_cm                          1331111111111110643854132225163395072.000\n",
       "instrument_good                                                      332.000\n",
       "instruments                                                   1234571027.000\n",
       "iq_score                                                 110000000120779.000\n",
       "job_unacceptable_not_student                                          17.000\n",
       "kpop_dance_sing                                                      133.000\n",
       "let_the_girl_pay_if_she_wants                                        462.000\n",
       "over_10k_instagram                                                    75.000\n",
       "perfect_vision                                                       258.000\n",
       "pi_tenth_digit                                                       373.000\n",
       "racist_against_other_asians                                          184.000\n",
       "ripped                                                               226.000\n",
       "salary_over_100k                                                     250.000\n",
       "salary_over_200k                                                     130.000\n",
       "salary_over_80k                                                      174.000\n",
       "salary_six_figure                                                      0.000\n",
       "salty_about_paying                                                   121.000\n",
       "scored_yourself                                                      577.000\n",
       "sports_varsity_college                                               466.000\n",
       "tattoos                                                              134.000\n",
       "unemployed_not_student                                                17.000\n",
       "dtype: float64"
      ]
     },
     "execution_count": 7,
     "metadata": {},
     "output_type": "execute_result"
    }
   ],
   "source": [
    "df.sum()"
   ]
  },
  {
   "cell_type": "markdown",
   "metadata": {},
   "source": [
    "# After removing outliers"
   ]
  },
  {
   "cell_type": "code",
   "execution_count": 8,
   "metadata": {},
   "outputs": [
    {
     "data": {
      "text/plain": [
       "above_platinum                                 191.000\n",
       "always_offer_to_pay                            635.000\n",
       "asian_community_prominent_figure               205.000\n",
       "church_going                                   156.000\n",
       "degree_acceptable                              816.000\n",
       "degree_graduated                               289.000\n",
       "degree_masters                                 137.000\n",
       "degree_phd                                     102.000\n",
       "degree_waste_of_time                            55.000\n",
       "dress_like_fuccboi                             205.000\n",
       "dropped_out                                      2.000\n",
       "english_non_fluent                               2.000\n",
       "english_only                                    39.000\n",
       "foreign_langauges_fluent                      1556.000\n",
       "foreign_langauges_nonfluent                   1672.500\n",
       "gpa_acceptable                                 383.000\n",
       "height_cm                                   171066.340\n",
       "instrument_good                                314.000\n",
       "instruments                             1234569995.000\n",
       "iq_score                           110000000116140.000\n",
       "job_unacceptable_not_student                    13.000\n",
       "kpop_dance_sing                                127.000\n",
       "let_the_girl_pay_if_she_wants                  449.000\n",
       "over_10k_instagram                              73.000\n",
       "perfect_vision                                 256.000\n",
       "pi_tenth_digit                                 360.000\n",
       "racist_against_other_asians                    178.000\n",
       "ripped                                         223.000\n",
       "salary_over_100k                               247.000\n",
       "salary_over_200k                               125.000\n",
       "salary_over_80k                                172.000\n",
       "salary_six_figure                                0.000\n",
       "salty_about_paying                             118.000\n",
       "scored_yourself                                557.000\n",
       "sports_varsity_college                         453.000\n",
       "tattoos                                        134.000\n",
       "unemployed_not_student                          17.000\n",
       "dtype: float64"
      ]
     },
     "execution_count": 8,
     "metadata": {},
     "output_type": "execute_result"
    }
   ],
   "source": [
    "filtered = utils.drop_height_outliers(df)\n",
    "sums = filtered.sum()\n",
    "sums"
   ]
  },
  {
   "cell_type": "markdown",
   "metadata": {},
   "source": [
    "# Distribution"
   ]
  },
  {
   "cell_type": "code",
   "execution_count": 14,
   "metadata": {},
   "outputs": [
    {
     "data": {
      "text/plain": [
       "<matplotlib.axes._subplots.AxesSubplot at 0x1125269d0>"
      ]
     },
     "execution_count": 14,
     "metadata": {},
     "output_type": "execute_result"
    },
    {
     "data": {
      "image/png": "[encoded data removed]",
      "text/plain": [
       "<matplotlib.figure.Figure at 0x11252ca50>"
      ]
     },
     "metadata": {},
     "output_type": "display_data"
    }
   ],
   "source": [
    "height = df['height_cm']\n",
    "ax = plt.gca()\n",
    "height.hist(ax=ax, alpha=0.9, color='blue')\n"
   ]
  },
  {
   "cell_type": "code",
   "execution_count": 15,
   "metadata": {},
   "outputs": [
    {
     "data": {
      "text/plain": [
       "<matplotlib.axes._subplots.AxesSubplot at 0x1127b8990>"
      ]
     },
     "execution_count": 15,
     "metadata": {},
     "output_type": "execute_result"
    },
    {
     "data": {
      "image/png": "[encoded data removed]",
      "text/plain": [
       "<matplotlib.figure.Figure at 0x11252c850>"
      ]
     },
     "metadata": {},
     "output_type": "display_data"
    }
   ],
   "source": [
    "height = filtered['height_cm']\n",
    "ax = plt.gca()\n",
    "height.hist(ax=ax, alpha=0.9, color='blue')"
   ]
  }
 ],
 "metadata": {
  "kernelspec": {
   "display_name": "Python 3",
   "language": "python",
   "name": "python3"
  },
  "language_info": {
   "codemirror_mode": {
    "name": "ipython",
    "version": 2
   },
   "file_extension": ".py",
   "mimetype": "text/x-python",
   "name": "python",
   "nbconvert_exporter": "python",
   "pygments_lexer": "ipython2",
   "version": "2.7.14"
  }
 },
 "nbformat": 4,
 "nbformat_minor": 2
}
