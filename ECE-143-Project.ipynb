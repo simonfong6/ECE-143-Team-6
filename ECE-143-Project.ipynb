{
 "cells": [
  {
   "cell_type": "code",
   "execution_count": 1,
   "metadata": {},
   "outputs": [
    {
     "data": {
      "text/plain": [
       "{u'_id': u'5c0dc1ec9d6b972a6343384b',\n",
       " u'form_type': u'men',\n",
       " u'form_version': 1,\n",
       " u'responses': {u'above_platinum': {u'name': u'above_platinum',\n",
       "   u'score': 0,\n",
       "   u'value': False},\n",
       "  u'always_offer_to_pay': {u'name': u'always_offer_to_pay',\n",
       "   u'score': 3,\n",
       "   u'value': True},\n",
       "  u'asian_community_prominent_figure': {u'name': u'asian_community_prominent_figure',\n",
       "   u'score': 0,\n",
       "   u'value': False},\n",
       "  u'attractiveness': {u'name': u'attractiveness', u'score': 0, u'value': u'6'},\n",
       "  u'church_going': {u'name': u'church_going', u'score': 0, u'value': False},\n",
       "  u'degree_acceptable': {u'name': u'degree_acceptable',\n",
       "   u'score': 0,\n",
       "   u'value': False},\n",
       "  u'degree_graduated': {u'name': u'degree_graduated',\n",
       "   u'score': 0,\n",
       "   u'value': False},\n",
       "  u'degree_masters': {u'name': u'degree_masters',\n",
       "   u'score': 0,\n",
       "   u'value': False},\n",
       "  u'degree_phd': {u'name': u'degree_phd', u'score': 0, u'value': False},\n",
       "  u'degree_waste_of_time': {u'name': u'degree_waste_of_time',\n",
       "   u'score': 0,\n",
       "   u'value': False},\n",
       "  u'dress_like_fuccboi': {u'name': u'dress_like_fuccboi',\n",
       "   u'score': 0,\n",
       "   u'value': False},\n",
       "  u'dropped_out': {u'name': u'dropped_out', u'score': 0, u'value': False},\n",
       "  u'english_non_fluent': {u'name': u'english_non_fluent',\n",
       "   u'score': 0,\n",
       "   u'value': False},\n",
       "  u'english_only': {u'name': u'english_only', u'score': 0, u'value': False},\n",
       "  u'foreign_langauges_fluent': {u'name': u'foreign_langauges_fluent',\n",
       "   u'score': 0,\n",
       "   u'value': u'0'},\n",
       "  u'foreign_langauges_nonfluent': {u'name': u'foreign_langauges_nonfluent',\n",
       "   u'score': 3,\n",
       "   u'value': u'3'},\n",
       "  u'gpa_acceptable': {u'name': u'gpa_acceptable',\n",
       "   u'score': 0,\n",
       "   u'value': False},\n",
       "  u'height_cm': {u'name': u'height_cm', u'score': 0, u'value': u'170'},\n",
       "  u'instrument_good': {u'name': u'instrument_good',\n",
       "   u'score': 0,\n",
       "   u'value': False},\n",
       "  u'instruments': {u'name': u'instruments', u'score': 0, u'value': u'0'},\n",
       "  u'iq_score': {u'name': u'iq_score', u'score': 0, u'value': u'110'},\n",
       "  u'job_unacceptable_not_student': {u'name': u'job_unacceptable_not_student',\n",
       "   u'score': 0,\n",
       "   u'value': False},\n",
       "  u'kpop_dance_sing': {u'name': u'kpop_dance_sing',\n",
       "   u'score': 0,\n",
       "   u'value': False},\n",
       "  u'let_the_girl_pay_if_she_wants': {u'name': u'let_the_girl_pay_if_she_wants',\n",
       "   u'score': 1,\n",
       "   u'value': True},\n",
       "  u'over_10k_instagram': {u'name': u'over_10k_instagram',\n",
       "   u'score': 0,\n",
       "   u'value': False},\n",
       "  u'perfect_vision': {u'name': u'perfect_vision',\n",
       "   u'score': 0,\n",
       "   u'value': False},\n",
       "  u'pi_tenth_digit': {u'name': u'pi_tenth_digit',\n",
       "   u'score': 0,\n",
       "   u'value': False},\n",
       "  u'racist_against_other_asians': {u'name': u'racist_against_other_asians',\n",
       "   u'score': 0,\n",
       "   u'value': False},\n",
       "  u'ripped': {u'name': u'ripped', u'score': 0, u'value': False},\n",
       "  u'salary_over_100k': {u'name': u'salary_over_100k',\n",
       "   u'score': 0,\n",
       "   u'value': False},\n",
       "  u'salary_over_200k': {u'name': u'salary_over_200k',\n",
       "   u'score': 0,\n",
       "   u'value': False},\n",
       "  u'salary_over_80k': {u'name': u'salary_over_80k',\n",
       "   u'score': 0,\n",
       "   u'value': False},\n",
       "  u'salty_about_paying': {u'name': u'salty_about_paying',\n",
       "   u'score': 0,\n",
       "   u'value': False},\n",
       "  u'scored_yourself': {u'name': u'scored_yourself',\n",
       "   u'score': -3,\n",
       "   u'value': True},\n",
       "  u'sports_varsity_college': {u'name': u'sports_varsity_college',\n",
       "   u'score': 0,\n",
       "   u'value': False},\n",
       "  u'tattoos': {u'name': u'tattoos', u'score': 0, u'value': u'0'},\n",
       "  u'unemployed_not_student': {u'name': u'unemployed_not_student',\n",
       "   u'score': 0,\n",
       "   u'value': False}},\n",
       " u'timestamp_secs': 1544405483.298644,\n",
       " u'total_score': 4}"
      ]
     },
     "execution_count": 1,
     "metadata": {},
     "output_type": "execute_result"
    }
   ],
   "source": [
    "import json as js\n",
    "import matplotlib.pyplot as plt\n",
    "\n",
    "\n",
    "data = []\n",
    "with open('data_fetching/sadscore_data.json', 'r') as input_file:\n",
    "    data = js.load(input_file)\n",
    "data[1]"
   ]
  },
  {
   "cell_type": "code",
   "execution_count": 2,
   "metadata": {},
   "outputs": [
    {
     "data": {
      "text/plain": [
       "1056"
      ]
     },
     "execution_count": 2,
     "metadata": {},
     "output_type": "execute_result"
    }
   ],
   "source": [
    "total_amount = len(data)-1\n",
    "man_amount = 0\n",
    "\n",
    "for x in data:\n",
    "    if 'responses' in x:\n",
    "        tmp = x['responses']\n",
    "        if x['form_type'] == 'men':\n",
    "            man_amount+=1\n",
    "\n",
    "        \n",
    "man_amount"
   ]
  },
  {
   "cell_type": "code",
   "execution_count": 3,
   "metadata": {
    "scrolled": true
   },
   "outputs": [
    {
     "data": {
      "text/plain": [
       "defaultdict(int,\n",
       "            {u'above_platinum': 197,\n",
       "             u'always_offer_to_pay': 652,\n",
       "             u'asian_community_prominent_figure': 209,\n",
       "             u'attractiveness': 1048,\n",
       "             u'church_going': 166,\n",
       "             u'degree_acceptable': 831,\n",
       "             u'degree_graduated': 295,\n",
       "             u'degree_masters': 144,\n",
       "             u'degree_phd': 105,\n",
       "             u'degree_waste_of_time': 57,\n",
       "             u'dress_like_fuccboi': 209,\n",
       "             u'dropped_out': 3,\n",
       "             u'english_non_fluent': 2,\n",
       "             u'english_only': 39,\n",
       "             u'foreign_langauges_fluent': 1048,\n",
       "             u'foreign_langauges_nonfluent': 1053,\n",
       "             u'gpa_acceptable': 396,\n",
       "             u'height_cm': 1053,\n",
       "             u'instrument_good': 332,\n",
       "             u'instruments': 1048,\n",
       "             u'iq_score': 1054,\n",
       "             u'job_unacceptable_not_student': 17,\n",
       "             u'kpop_dance_sing': 133,\n",
       "             u'let_the_girl_pay_if_she_wants': 462,\n",
       "             u'over_10k_instagram': 75,\n",
       "             u'perfect_vision': 258,\n",
       "             u'pi_tenth_digit': 373,\n",
       "             u'racist_against_other_asians': 184,\n",
       "             u'ripped': 226,\n",
       "             u'salary_over_100k': 250,\n",
       "             u'salary_over_200k': 130,\n",
       "             u'salary_over_80k': 174,\n",
       "             u'salary_six_figure': 0,\n",
       "             u'salty_about_paying': 121,\n",
       "             u'scored_yourself': 577,\n",
       "             u'sports_varsity_college': 466,\n",
       "             u'tattoos': 1051,\n",
       "             u'unemployed_not_student': 17})"
      ]
     },
     "execution_count": 3,
     "metadata": {},
     "output_type": "execute_result"
    }
   ],
   "source": [
    "import collections\n",
    "result = collections.defaultdict(int)\n",
    "attract_score = []\n",
    "iq_score = []\n",
    "for x in data:\n",
    "    if 'responses' in x:\n",
    "        tmp = x['responses']\n",
    "        for key,value in tmp.items():\n",
    "            result[key] +=1 if value['value'] else 0\n",
    "        if 'attractiveness' in tmp:\n",
    "            attract_score.append(tmp['attractiveness']['value'])\n",
    "        if 'iq_score' in tmp:\n",
    "            iq_score.append(tmp['iq_score']['value'])\n",
    "result"
   ]
  },
  {
   "cell_type": "code",
   "execution_count": 4,
   "metadata": {},
   "outputs": [
    {
     "ename": "NameError",
     "evalue": "name 'np' is not defined",
     "output_type": "error",
     "traceback": [
      "\u001b[0;31m---------------------------------------------------------------------------\u001b[0m",
      "\u001b[0;31mNameError\u001b[0m                                 Traceback (most recent call last)",
      "\u001b[0;32m<ipython-input-4-b1639f50e4a0>\u001b[0m in \u001b[0;36m<module>\u001b[0;34m()\u001b[0m\n\u001b[0;32m----> 1\u001b[0;31m \u001b[0mx\u001b[0m \u001b[0;34m=\u001b[0m \u001b[0mnp\u001b[0m\u001b[0;34m.\u001b[0m\u001b[0marange\u001b[0m\u001b[0;34m(\u001b[0m\u001b[0mlen\u001b[0m\u001b[0;34m(\u001b[0m\u001b[0mresult\u001b[0m\u001b[0;34m.\u001b[0m\u001b[0mkeys\u001b[0m\u001b[0;34m(\u001b[0m\u001b[0;34m)\u001b[0m\u001b[0;34m)\u001b[0m\u001b[0;34m)\u001b[0m\u001b[0;34m\u001b[0m\u001b[0m\n\u001b[0m\u001b[1;32m      2\u001b[0m \u001b[0my\u001b[0m \u001b[0;34m=\u001b[0m \u001b[0;34m[\u001b[0m\u001b[0;34m]\u001b[0m\u001b[0;34m\u001b[0m\u001b[0m\n\u001b[1;32m      3\u001b[0m \u001b[0mcolor\u001b[0m \u001b[0;34m=\u001b[0m \u001b[0;34m[\u001b[0m\u001b[0;34m]\u001b[0m\u001b[0;34m\u001b[0m\u001b[0m\n\u001b[1;32m      4\u001b[0m \u001b[0mid_to_question\u001b[0m \u001b[0;34m=\u001b[0m \u001b[0;34m{\u001b[0m\u001b[0;34m}\u001b[0m\u001b[0;34m\u001b[0m\u001b[0m\n\u001b[1;32m      5\u001b[0m \u001b[0mgood_question\u001b[0m \u001b[0;34m=\u001b[0m \u001b[0;34m[\u001b[0m\u001b[0;34m]\u001b[0m\u001b[0;34m\u001b[0m\u001b[0m\n",
      "\u001b[0;31mNameError\u001b[0m: name 'np' is not defined"
     ]
    }
   ],
   "source": [
    "x = np.arange(len(result.keys()))\n",
    "y = []\n",
    "color = []\n",
    "id_to_question = {}\n",
    "good_question = []\n",
    "i = 0\n",
    "for key,val in result.items():\n",
    "    id_to_question[i] = key\n",
    "    i+=1\n",
    "    y.append(val/1056)\n",
    "    if val/1056 > 0.5:\n",
    "        color.append('red')\n",
    "        good_question.append(key)\n",
    "    else:\n",
    "        color.append('cyan')\n",
    "plt.figure(figsize=(30,8))\n",
    "plt.bar(x,y,color=color)\n",
    "plt.xticks(x)\n",
    "plt.xlabel('Question label')\n",
    "plt.ylabel('percentage')\n",
    "plt.title('all 30 question distribution')\n",
    "plt.show()"
   ]
  },
  {
   "cell_type": "code",
   "execution_count": 5,
   "metadata": {},
   "outputs": [
    {
     "ename": "NameError",
     "evalue": "name 'good_question' is not defined",
     "output_type": "error",
     "traceback": [
      "\u001b[0;31m---------------------------------------------------------------------------\u001b[0m",
      "\u001b[0;31mNameError\u001b[0m                                 Traceback (most recent call last)",
      "\u001b[0;32m<ipython-input-5-55b542a3742a>\u001b[0m in \u001b[0;36m<module>\u001b[0;34m()\u001b[0m\n\u001b[0;32m----> 1\u001b[0;31m \u001b[0mgood_question\u001b[0m\u001b[0;34m\u001b[0m\u001b[0m\n\u001b[0m",
      "\u001b[0;31mNameError\u001b[0m: name 'good_question' is not defined"
     ]
    }
   ],
   "source": [
    "good_question"
   ]
  },
  {
   "cell_type": "code",
   "execution_count": 6,
   "metadata": {},
   "outputs": [],
   "source": [
    "\n",
    "def mybarplot(x,y,title,xlabel,ylabel):\n",
    "\n",
    "    plt.bar(x,y,facecolor='#9999ff', edgecolor='white')\n",
    "    plt.xticks(np.arange(0,len(x)+1,step = len(x)//10))\n",
    "    plt.xlabel('Score')\n",
    "    plt.yticks(np.arange(0, max(y)+200, step=100))\n",
    "    plt.ylabel('Number')\n",
    "    for x, y in zip(x, y):\n",
    "        plt.text(x, y ,'%s' %int(y), ha='center', va='bottom')\n",
    "    plt.title('distribution of attractiveness given by self')\n",
    "    plt.show()\n"
   ]
  },
  {
   "cell_type": "code",
   "execution_count": 7,
   "metadata": {},
   "outputs": [
    {
     "ename": "NameError",
     "evalue": "name 'np' is not defined",
     "output_type": "error",
     "traceback": [
      "\u001b[0;31m---------------------------------------------------------------------------\u001b[0m",
      "\u001b[0;31mNameError\u001b[0m                                 Traceback (most recent call last)",
      "\u001b[0;32m<ipython-input-7-dadc15a513cb>\u001b[0m in \u001b[0;36m<module>\u001b[0;34m()\u001b[0m\n\u001b[1;32m      1\u001b[0m \u001b[0mcount_iq\u001b[0m \u001b[0;34m=\u001b[0m \u001b[0mcollections\u001b[0m\u001b[0;34m.\u001b[0m\u001b[0mCounter\u001b[0m\u001b[0;34m(\u001b[0m\u001b[0miq_score\u001b[0m\u001b[0;34m)\u001b[0m\u001b[0;34m\u001b[0m\u001b[0m\n\u001b[0;32m----> 2\u001b[0;31m \u001b[0miq_x\u001b[0m \u001b[0;34m=\u001b[0m \u001b[0mnp\u001b[0m\u001b[0;34m.\u001b[0m\u001b[0marange\u001b[0m\u001b[0;34m(\u001b[0m\u001b[0;36m70\u001b[0m\u001b[0;34m,\u001b[0m\u001b[0;36m260\u001b[0m\u001b[0;34m)\u001b[0m\u001b[0;34m\u001b[0m\u001b[0m\n\u001b[0m\u001b[1;32m      3\u001b[0m \u001b[0miq_y\u001b[0m \u001b[0;34m=\u001b[0m \u001b[0mnp\u001b[0m\u001b[0;34m.\u001b[0m\u001b[0mzeros\u001b[0m\u001b[0;34m(\u001b[0m\u001b[0mlen\u001b[0m\u001b[0;34m(\u001b[0m\u001b[0miq_x\u001b[0m\u001b[0;34m)\u001b[0m\u001b[0;34m)\u001b[0m\u001b[0;34m\u001b[0m\u001b[0m\n\u001b[1;32m      4\u001b[0m \u001b[0;32mfor\u001b[0m \u001b[0mkey\u001b[0m\u001b[0;34m,\u001b[0m\u001b[0mval\u001b[0m \u001b[0;32min\u001b[0m \u001b[0mcount_iq\u001b[0m\u001b[0;34m.\u001b[0m\u001b[0mitems\u001b[0m\u001b[0;34m(\u001b[0m\u001b[0;34m)\u001b[0m\u001b[0;34m:\u001b[0m\u001b[0;34m\u001b[0m\u001b[0m\n\u001b[1;32m      5\u001b[0m     \u001b[0;32mif\u001b[0m \u001b[0;32mnot\u001b[0m \u001b[0mkey\u001b[0m\u001b[0;34m:\u001b[0m\u001b[0;34m\u001b[0m\u001b[0m\n",
      "\u001b[0;31mNameError\u001b[0m: name 'np' is not defined"
     ]
    }
   ],
   "source": [
    "count_iq = collections.Counter(iq_score)\n",
    "iq_x = np.arange(70,260)\n",
    "iq_y = np.zeros(len(iq_x))\n",
    "for key,val in count_iq.items():\n",
    "    if not key:\n",
    "        continue\n",
    "    if int(key) >=260:\n",
    "        iq_y[-1]+=1\n",
    "    elif int(key)<=70:\n",
    "        iq_y[0]+=1\n",
    "    else:\n",
    "        iq_y[int(key)-70] = int(val)\n",
    "count_attract = collections.Counter(attract_score)\n",
    "\n",
    "\n",
    "attract_x = np.arange(1,11)\n",
    "attract_y = np.zeros(10)\n",
    "for i in attract_x:\n",
    "    if str(i) in count:\n",
    "        attract_y[i-1] = count[str(i)]\n",
    "mybarplot(attract_x,attract_y,'Attractiveness given by oneself','Score','Number')\n"
   ]
  },
  {
   "cell_type": "code",
   "execution_count": 8,
   "metadata": {},
   "outputs": [
    {
     "ename": "NameError",
     "evalue": "name 'iq_x' is not defined",
     "output_type": "error",
     "traceback": [
      "\u001b[0;31m---------------------------------------------------------------------------\u001b[0m",
      "\u001b[0;31mNameError\u001b[0m                                 Traceback (most recent call last)",
      "\u001b[0;32m<ipython-input-8-3020c2402dd7>\u001b[0m in \u001b[0;36m<module>\u001b[0;34m()\u001b[0m\n\u001b[1;32m      1\u001b[0m \u001b[0;34m\u001b[0m\u001b[0m\n\u001b[1;32m      2\u001b[0m \u001b[0mplt\u001b[0m\u001b[0;34m.\u001b[0m\u001b[0mfigure\u001b[0m\u001b[0;34m(\u001b[0m\u001b[0mfigsize\u001b[0m\u001b[0;34m=\u001b[0m\u001b[0;34m(\u001b[0m\u001b[0;36m20\u001b[0m\u001b[0;34m,\u001b[0m\u001b[0;36m5\u001b[0m\u001b[0;34m)\u001b[0m\u001b[0;34m)\u001b[0m\u001b[0;34m\u001b[0m\u001b[0m\n\u001b[0;32m----> 3\u001b[0;31m \u001b[0mplt\u001b[0m\u001b[0;34m.\u001b[0m\u001b[0mplot\u001b[0m\u001b[0;34m(\u001b[0m\u001b[0miq_x\u001b[0m\u001b[0;34m,\u001b[0m\u001b[0miq_y\u001b[0m\u001b[0;34m,\u001b[0m\u001b[0mcolor\u001b[0m\u001b[0;34m=\u001b[0m\u001b[0;34m'red'\u001b[0m\u001b[0;34m,\u001b[0m \u001b[0malpha\u001b[0m\u001b[0;34m=\u001b[0m\u001b[0;36m1.00\u001b[0m\u001b[0;34m)\u001b[0m\u001b[0;34m\u001b[0m\u001b[0m\n\u001b[0m\u001b[1;32m      4\u001b[0m \u001b[0;32mfor\u001b[0m \u001b[0mx\u001b[0m\u001b[0;34m,\u001b[0m \u001b[0my\u001b[0m \u001b[0;32min\u001b[0m \u001b[0mzip\u001b[0m\u001b[0;34m(\u001b[0m\u001b[0miq_x\u001b[0m\u001b[0;34m,\u001b[0m \u001b[0miq_y\u001b[0m\u001b[0;34m)\u001b[0m\u001b[0;34m:\u001b[0m\u001b[0;34m\u001b[0m\u001b[0m\n\u001b[1;32m      5\u001b[0m     \u001b[0;32mif\u001b[0m \u001b[0mint\u001b[0m\u001b[0;34m(\u001b[0m\u001b[0my\u001b[0m\u001b[0;34m)\u001b[0m\u001b[0;34m>\u001b[0m\u001b[0;36m10\u001b[0m\u001b[0;34m:\u001b[0m\u001b[0;34m\u001b[0m\u001b[0m\n",
      "\u001b[0;31mNameError\u001b[0m: name 'iq_x' is not defined"
     ]
    },
    {
     "data": {
      "text/plain": [
       "<matplotlib.figure.Figure at 0x10fbac090>"
      ]
     },
     "metadata": {},
     "output_type": "display_data"
    }
   ],
   "source": [
    "\n",
    "plt.figure(figsize=(20,5))\n",
    "plt.plot(iq_x,iq_y,color='red', alpha=1.00)\n",
    "for x, y in zip(iq_x, iq_y):\n",
    "    if int(y)>10:\n",
    "        plt.text(x, y ,'%s' %int(y), ha='center', va='bottom')\n",
    "plt.show()\n"
   ]
  },
  {
   "cell_type": "code",
   "execution_count": 51,
   "metadata": {
    "scrolled": true
   },
   "outputs": [
    {
     "data": {
      "image/png": "[encoded data removed]",
      "text/plain": [
       "<Figure size 432x288 with 1 Axes>"
      ]
     },
     "metadata": {},
     "output_type": "display_data"
    }
   ],
   "source": [
    "labels = ['over 200k','over 100k','over80k','no answer']\n",
    "values = [result['salary_over_200k'],result['salary_over_100k'],result['salary_over_80k'],1056-390-174]\n",
    "explode=(0,0.1,0,0)\n",
    "fig1, ax1 = plt.subplots()\n",
    "ax1.pie(values, explode=explode, labels=labels, autopct='%1.1f%%',\n",
    "        shadow=True, startangle=90)\n",
    "ax1.axis('equal')  # Equal aspect ratio ensures that pie is drawn as a circle.\n",
    "ax1.set_title(\"Salary distribution\")\n",
    "plt.show()"
   ]
  },
  {
   "cell_type": "code",
   "execution_count": null,
   "metadata": {},
   "outputs": [],
   "source": []
  }
 ],
 "metadata": {
  "kernelspec": {
   "display_name": "Python 2",
   "language": "python",
   "name": "python2"
  },
  "language_info": {
   "codemirror_mode": {
    "name": "ipython",
    "version": 2
   },
   "file_extension": ".py",
   "mimetype": "text/x-python",
   "name": "python",
   "nbconvert_exporter": "python",
   "pygments_lexer": "ipython2",
   "version": "2.7.14"
  }
 },
 "nbformat": 4,
 "nbformat_minor": 2
}
