{
 "cells": [
  {
   "cell_type": "code",
   "execution_count": null,
   "metadata": {},
   "outputs": [
    {
     "name": "stdout",
     "output_type": "stream",
     "text": [
      "Collecting package metadata: done\n",
      "Solving environment: - \n",
      "The environment is inconsistent, please check the package plan carefully\n",
      "The following packages are causing the inconsistency:\n",
      "\n",
      "  - defaults/osx-64::anaconda==5.1.0=py27_2\n",
      "\\ "
     ]
    }
   ],
   "source": [
    "!conda install -c pyviz holoviews bokeh #y"
   ]
  },
  {
   "cell_type": "code",
   "execution_count": null,
   "metadata": {},
   "outputs": [],
   "source": [
    "import holoviews as hv\n",
    "import numpy as np\n",
    "import pandas as pd\n",
    "from collections import Counter\n",
    "from holoviews import opts\n",
    "hv.extension('bokeh', 'matplotlib')\n",
    "import matplotlib.pyplot as plt\n",
    "import plotting as pt\n",
    "import utils\n",
    "from utils import load_data_dataframe"
   ]
  },
  {
   "cell_type": "code",
   "execution_count": null,
   "metadata": {},
   "outputs": [],
   "source": [
    "df = load_data_dataframe()\n",
    "utils.turn_off_scientific_notation()\n",
    "filtered, outliers = utils.drop_all_outliers(df)"
   ]
  },
  {
   "cell_type": "code",
   "execution_count": null,
   "metadata": {},
   "outputs": [],
   "source": [
    "nonflu_list = []\n",
    "flu_list = []\n",
    "\n",
    "# count the number nonfluent foreign languages\n",
    "count_nf = Counter()\n",
    "count_nf.update(filtered['foreign_langauges_nonfluent'])\n",
    "print(count_nf)\n",
    "vals = count_nf.most_common()\n",
    "vals.sort()\n",
    "print(vals)\n",
    "line = [sent[0] for sent in vals]\n",
    "cnt = [sent[1] for sent in vals]\n",
    "\n",
    "for i in range(len(line)):\n",
    "    print (line[i],cnt[i])\n",
    "    nonflu_list.append(tuple((line[i],cnt[i])))\n",
    "\n",
    "# count the number fluent foreign languages\n",
    "count_f = Counter()\n",
    "count_f.update(filtered['foreign_langauges_fluent'])\n",
    "\n",
    "vals = count_f.most_common()\n",
    "vals.sort()\n",
    "print(vals)\n",
    "line = [sent[0] for sent in vals]\n",
    "cnt = [sent[1] for sent in vals]\n",
    "\n",
    "for i in range(len(line)):\n",
    "    flu_list.append(tuple((line[i],cnt[i])))\n",
    "#print(nonflu_list)\n",
    "\n",
    "\n",
    "hv.Bars(nonflu_list,hv.Dimension('Foreign Lanuages'),'Number of People').options(width=500,color=('rgb(0, 0, 255)'),title='Foreign Langauges Nonfluent') + hv.Bars(flu_list,hv.Dimension('Foreign Lanuages'),'Number of People').options(width=500,color=('rgb(0, 0, 255)'),title='Foreign Langauges Fluent')\n"
   ]
  },
  {
   "cell_type": "code",
   "execution_count": null,
   "metadata": {},
   "outputs": [],
   "source": [
    "edu_list = []\n",
    "edu_list = [('degree acceptable', filtered['degree_acceptable'].sum()),\n",
    "            ('degree graduate', filtered['degree_graduated'].sum()),\n",
    "            ('degree masters', filtered['degree_masters'].sum()),\n",
    "            ('degree phd', filtered['degree_phd'].sum()),\n",
    "            ('degree waste of time', filtered['degree_waste_of_time'].sum()),\n",
    "            ('sports varsity college', filtered['sports_varsity_college'].sum())]\n",
    "\n",
    "print(edu_list)\n",
    "\n",
    "hv.Bars(edu_dict,hv.Dimension('Education'),'Number of People').options(width=500,color=('rgb(0, 0, 255)'))\n"
   ]
  },
  {
   "cell_type": "code",
   "execution_count": null,
   "metadata": {},
   "outputs": [],
   "source": [
    "import json as js\n",
    "import matplotlib.pyplot as plt\n",
    "\n",
    "\n",
    "data = []\n",
    "with open('data_fetching/sadscore_data.json', 'r') as input_file:\n",
    "    data = js.load(input_file)\n",
    "data[1]\n",
    " ################################\n",
    "total_amount = len(data)-1\n",
    "man_amount = 0\n",
    "\n",
    "for x in data:\n",
    "    if 'responses' in x:\n",
    "        tmp = x['responses']\n",
    "        if x['form_type'] == 'men':\n",
    "            man_amount+=1\n",
    "\n",
    "#############################\n",
    "import collections\n",
    "result = collections.defaultdict(int)\n",
    "attract_score = []\n",
    "iq_score = []\n",
    "for x in data:\n",
    "    if 'responses' in x:\n",
    "        tmp = x['responses']\n",
    "        for key,value in tmp.items():\n",
    "            result[key] +=1 if value['value'] else 0\n",
    "        if 'attractiveness' in tmp:\n",
    "            attract_score.append(tmp['attractiveness']['value'])\n",
    "        if 'iq_score' in tmp:\n",
    "            iq_score.append(tmp['iq_score']['value'])"
   ]
  },
  {
   "cell_type": "code",
   "execution_count": null,
   "metadata": {},
   "outputs": [],
   "source": [
    "\n",
    "def mybarplot(x,y,title,xlabel,ylabel):\n",
    "\n",
    "    plt.bar(x,y,facecolor='#9999ff', edgecolor='white')\n",
    "    plt.xticks(np.arange(0,len(x)+1,step = len(x)//10))\n",
    "    plt.xlabel('Score')\n",
    "    plt.yticks(np.arange(0, max(y)+200, step=100))\n",
    "    plt.ylabel('Number')\n",
    "    for x, y in zip(x, y):\n",
    "        plt.text(x, y ,'%s' %int(y), ha='center', va='bottom')\n",
    "    plt.title('distribution of attractiveness given by self')\n",
    "    plt.show()\n"
   ]
  },
  {
   "cell_type": "code",
   "execution_count": null,
   "metadata": {},
   "outputs": [],
   "source": [
    "labels = ['Graduated','Masters in Progress/Received','PhD in Progress/Received','Degree Waste of Time','Undergrad/Not in College']\n",
    "values = [result['degree_graduated'],result['degree_masters'],result['degree_phd'],result['degree_waste_of_time'], 1056-295-144-105-57]\n",
    "#print(values)\n",
    "explode=(0.1,0,0,0,0)\n",
    "fig1, ax1 = plt.subplots()\n",
    "ax1.pie(values, explode=explode, labels=labels, autopct='%1.1f%%',\n",
    "        shadow=True, startangle=90)\n",
    "ax1.axis('equal')  # Equal aspect ratio ensures that pie is drawn as a circle.\n",
    "ax1.set_title(\"Degree distribution\")\n",
    "plt.show()"
   ]
  },
  {
   "cell_type": "code",
   "execution_count": null,
   "metadata": {},
   "outputs": [],
   "source": []
  }
 ],
 "metadata": {
  "kernelspec": {
   "display_name": "Python 3",
   "language": "python",
   "name": "python3"
  },
  "language_info": {
   "codemirror_mode": {
    "name": "ipython",
    "version": 2
   },
   "file_extension": ".py",
   "mimetype": "text/x-python",
   "name": "python",
   "nbconvert_exporter": "python",
   "pygments_lexer": "ipython2",
   "version": "2.7.14"
  }
 },
 "nbformat": 4,
 "nbformat_minor": 2
}
